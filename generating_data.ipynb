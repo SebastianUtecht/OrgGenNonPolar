{
 "cells": [
  {
   "cell_type": "code",
   "execution_count": 8,
   "metadata": {},
   "outputs": [
    {
     "name": "stdout",
     "output_type": "stream",
     "text": [
      "Using cuda\n"
     ]
    }
   ],
   "source": [
    "from DataGeneration import *\n",
    "from OrgGenNonPolar import *"
   ]
  },
  {
   "cell_type": "code",
   "execution_count": 7,
   "metadata": {},
   "outputs": [],
   "source": [
    "N = 5000\n",
    "concentration_lst = [0,0.2,0.4,0.6,0.8,1]\n",
    "\n",
    "try:\n",
    "    os.mkdir('initial_data')\n",
    "except:\n",
    "    pass\n",
    "\n",
    "for c in concentration_lst:\n",
    "    np.save(f'initial_data/cube{N}_{int(c*100)}', make_random_cube(N, c, size=20))"
   ]
  },
  {
   "cell_type": "code",
   "execution_count": 9,
   "metadata": {},
   "outputs": [
    {
     "name": "stderr",
     "output_type": "stream",
     "text": [
      "c:\\Users\\s_ute\\OneDrive\\Dokumenter\\Uni\\Thesis\\OrgGenNonPolar\\OrgGenNonPolar.py:289: UserWarning: The torch.cuda.*DtypeTensor constructors are no longer recommended. It's best to use methods such as torch.tensor(data, dtype=*, device='cuda') to create tensors. (Triggered internally at ..\\torch\\csrc\\tensor\\python_tensor.cpp:85.)\n",
      "  x += -x.grad * dt + eta * float_tensor(*x.shape).normal_() * sqrt_dt                  # Update our system by overdamped dynamics\n"
     ]
    },
    {
     "name": "stdout",
     "output_type": "stream",
     "text": [
      "Simulation done, saved 3 datapoints\n"
     ]
    }
   ],
   "source": [
    "run_simulation('initial_data/cube5000_60.npy', 'test', dt=0.2, eta=0, yield_steps=2, yield_every=500,\n",
    "               l00=0.7, l01=0.3, l1=1.0, l2=0.0, l3=0.0)"
   ]
  },
  {
   "cell_type": "code",
   "execution_count": null,
   "metadata": {},
   "outputs": [],
   "source": []
  }
 ],
 "metadata": {
  "kernelspec": {
   "display_name": "masters_env",
   "language": "python",
   "name": "python3"
  },
  "language_info": {
   "codemirror_mode": {
    "name": "ipython",
    "version": 3
   },
   "file_extension": ".py",
   "mimetype": "text/x-python",
   "name": "python",
   "nbconvert_exporter": "python",
   "pygments_lexer": "ipython3",
   "version": "3.11.5"
  }
 },
 "nbformat": 4,
 "nbformat_minor": 2
}
